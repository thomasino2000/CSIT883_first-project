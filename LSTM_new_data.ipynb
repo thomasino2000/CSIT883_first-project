{
  "nbformat": 4,
  "nbformat_minor": 0,
  "metadata": {
    "colab": {
      "private_outputs": true,
      "provenance": [],
      "authorship_tag": "ABX9TyPbObxVx2TiGo/1KmDU+/Bs",
      "include_colab_link": true
    },
    "kernelspec": {
      "name": "python3",
      "display_name": "Python 3"
    },
    "language_info": {
      "name": "python"
    }
  },
  "cells": [
    {
      "cell_type": "markdown",
      "metadata": {
        "id": "view-in-github",
        "colab_type": "text"
      },
      "source": [
        "<a href=\"https://colab.research.google.com/github/thomasino2000/CSIT883_first-project/blob/main/LSTM_new_data.ipynb\" target=\"_parent\"><img src=\"https://colab.research.google.com/assets/colab-badge.svg\" alt=\"Open In Colab\"/></a>"
      ]
    },
    {
      "cell_type": "code",
      "execution_count": null,
      "metadata": {
        "id": "CD-hilMJ26-D"
      },
      "outputs": [],
      "source": [
        "import numpy as np\n",
        "import pandas as pd\n",
        "import matplotlib.pyplot as plt\n",
        "from sklearn.preprocessing import MinMaxScaler\n",
        "from sklearn.metrics import mean_absolute_error, mean_squared_error, r2_score\n",
        "from keras.models import Sequential\n",
        "from keras.layers import LSTM, Dense\n",
        "\n",
        "# Load and preprocess data (replace 'your_data.csv' with your actual dataset)\n",
        "data = pd.read_csv('XFJ_combined_output.csv')\n",
        "data"
      ]
    },
    {
      "cell_type": "code",
      "source": [
        "# Load and preprocess data\n",
        "data = pd.read_csv('XFJ_combined_output.csv')\n",
        "\n",
        "# Get actual column names and convert to lowercase for case-insensitive comparison\n",
        "actual_columns = [col.lower() for col in data.columns]\n",
        "\n",
        "# Update features list based on actual column names\n",
        "features = ['open', 'high', 'low', 'last']  # Original desired features\n",
        "features = [f for f in features if f in actual_columns]  # Features present in data\n",
        "\n",
        "# If needed, adjust features to match actual column names exactly\n",
        "features = [data.columns[actual_columns.index(f)] for f in features]\n",
        "\n",
        "# Now use the corrected features list:\n",
        "scaler = MinMaxScaler()\n",
        "data_scaled = scaler.fit_transform(data[features])\n",
        "data_scaled"
      ],
      "metadata": {
        "id": "lPb8ebU94daL"
      },
      "execution_count": null,
      "outputs": []
    },
    {
      "cell_type": "code",
      "source": [
        "# Prepare training and test datasets\n",
        "def create_sequences(data, seq_length):\n",
        "    X, y = [], []\n",
        "    for i in range(len(data) - seq_length):\n",
        "        X.append(data[i:i + seq_length, :-1])  # All features except 'last'\n",
        "        y.append(data[i + seq_length, -1])    # 'last' as target\n",
        "    return np.array(X), np.array(y)\n",
        "\n",
        "sequence_length = 50  # Number of time steps\n",
        "X, y = create_sequences(data_scaled, sequence_length)\n",
        "print(f\"X has the values: {X}\")\n",
        "print(f\"y has the values: {y}\")"
      ],
      "metadata": {
        "id": "0NDsW6y-5AAU"
      },
      "execution_count": null,
      "outputs": []
    },
    {
      "cell_type": "code",
      "source": [
        "# Split into training and testing sets\n",
        "split_ratio = 0.8\n",
        "train_size = int(len(X) * split_ratio)\n",
        "X_train, X_test = X[:train_size], X[train_size:]\n",
        "y_train, y_test = y[:train_size], y[train_size:]\n",
        "print(f\"X_train has the values: {X_train}\")\n",
        "print(f\"X_test has the values: {X_test}\")\n",
        "print(f\"y_train has the values: {y_train}\")\n",
        "print(f\"y_test has the values: {y_test}\")"
      ],
      "metadata": {
        "id": "j2eiUodI53Zj"
      },
      "execution_count": null,
      "outputs": []
    },
    {
      "cell_type": "code",
      "source": [
        "# Build the LSTM model\n",
        "model = Sequential([\n",
        "    LSTM(50, return_sequences=True, input_shape=(X_train.shape[1], X_train.shape[2])),\n",
        "    LSTM(50, return_sequences=False),\n",
        "    Dense(25, activation='relu'),\n",
        "    Dense(1)  # Predicting 'last'\n",
        "])\n",
        "\n",
        "model.compile(optimizer='adam', loss='mean_squared_error')\n",
        "model\n",
        "print(model.summary())"
      ],
      "metadata": {
        "id": "tmUE--e18HQE"
      },
      "execution_count": null,
      "outputs": []
    },
    {
      "cell_type": "code",
      "source": [
        "# Train the model\n",
        "epochs = 20\n",
        "batch_size = 32\n",
        "history = model.fit(X_train, y_train, validation_data=(X_test, y_test), epochs=epochs, batch_size=batch_size, verbose=1)\n",
        "print(history)"
      ],
      "metadata": {
        "id": "d7ZibGD-8-Zb"
      },
      "execution_count": null,
      "outputs": []
    },
    {
      "cell_type": "code",
      "source": [
        "# Make predictions\n",
        "predictions = model.predict(X_test)\n",
        "predictions = scaler.inverse_transform(\n",
        "    np.concatenate((np.zeros((predictions.shape[0], len(features) - 1)), predictions), axis=1)\n",
        ")[:, -1]\n",
        "y_test_actual = scaler.inverse_transform(\n",
        "    np.concatenate((np.zeros((y_test.shape[0], len(features) - 1)), y_test.reshape(-1, 1)), axis=1)\n",
        ")[:, -1]\n",
        "print(predictions)\n",
        "print(y_test_actual)"
      ],
      "metadata": {
        "id": "wKODuKNfoJm0"
      },
      "execution_count": null,
      "outputs": []
    },
    {
      "cell_type": "code",
      "source": [
        "# Calculate metrics\n",
        "mae = mean_absolute_error(y_test_actual, predictions)\n",
        "mse = mean_squared_error(y_test_actual, predictions)\n",
        "mape = np.mean(np.abs((y_test_actual - predictions) / y_test_actual)) * 100\n",
        "r2 = r2_score(y_test_actual, predictions)\n",
        "\n",
        "print(f\"MAE: {mae}\")\n",
        "print(f\"MSE: {mse}\")\n",
        "print(f\"MAPE: {mape}%\")\n",
        "print(f\"R2 Score: {r2}\")"
      ],
      "metadata": {
        "id": "Xcc8BoyeuF0a"
      },
      "execution_count": null,
      "outputs": []
    },
    {
      "cell_type": "code",
      "source": [
        "# Plot the results\n",
        "time_range = range(len(y_test_actual))\n",
        "plt.figure(figsize=(12, 6))\n",
        "plt.plot(time_range, y_test_actual, color='green', label='Actual Price')\n",
        "plt.plot(time_range, predictions, color='red', label='Predicted Price')\n",
        "plt.title('Stock Price Prediction')\n",
        "plt.xlabel('Time')\n",
        "plt.ylabel('Price')\n",
        "plt.legend()\n",
        "plt.show()"
      ],
      "metadata": {
        "id": "ZlyvPH4bwJuT"
      },
      "execution_count": null,
      "outputs": []
    }
  ]
}